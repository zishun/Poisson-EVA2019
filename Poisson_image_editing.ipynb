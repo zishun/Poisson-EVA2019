{
  "nbformat": 4,
  "nbformat_minor": 0,
  "metadata": {
    "colab": {
      "provenance": [],
      "collapsed_sections": []
    },
    "kernelspec": {
      "name": "python3",
      "display_name": "Python 3"
    },
    "language_info": {
      "name": "python"
    }
  },
  "cells": [
    {
      "cell_type": "markdown",
      "source": [
        "# Poisson image editing"
      ],
      "metadata": {
        "id": "x_UeYc5U6H34"
      }
    },
    {
      "cell_type": "code",
      "execution_count": null,
      "metadata": {
        "id": "EX1O8CS86EGy"
      },
      "outputs": [],
      "source": [
        "!git clone https://github.com/zishun/Poisson-EVA2019/\n",
        "%cd Poisson-EVA2019"
      ]
    },
    {
      "cell_type": "code",
      "source": [
        "!cd util && python xmin_setup.py build_ext --inplace"
      ],
      "metadata": {
        "id": "AoYtQjzT6oOR"
      },
      "execution_count": null,
      "outputs": []
    },
    {
      "cell_type": "code",
      "source": [
        "!python poisson_image_editing.py"
      ],
      "metadata": {
        "id": "843vuOVm6SL3"
      },
      "execution_count": null,
      "outputs": []
    },
    {
      "cell_type": "code",
      "source": [
        "from IPython.display import Image, display\n",
        "display(Image('./data/pie/gine.png'))\n",
        "display(Image('./data/pie/mona.png'))\n",
        "display(Image('./data/pie/mask.png'))\n",
        "display(Image('./data/pie/result.png'))"
      ],
      "metadata": {
        "id": "OxsiuJsA6aNV"
      },
      "execution_count": null,
      "outputs": []
    },
    {
      "cell_type": "code",
      "source": [],
      "metadata": {
        "id": "SlTNiFV56wJI"
      },
      "execution_count": null,
      "outputs": []
    }
  ]
}